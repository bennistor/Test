{
 "cells": [
  {
   "cell_type": "code",
   "execution_count": 10,
   "metadata": {
    "collapsed": false
   },
   "outputs": [],
   "source": [
    "from netCDF4 import Dataset\n",
    "from mpl_toolkits.basemap import Basemap\n",
    "import matplotlib.pyplot as plt\n",
    "import numpy as np"
   ]
  },
  {
   "cell_type": "code",
   "execution_count": 11,
   "metadata": {
    "collapsed": false
   },
   "outputs": [],
   "source": [
    "directory = '/Users/denzi/Documents/Ben/VUW/Data/test/c20r-prmsl.193804.nc'"
   ]
  },
  {
   "cell_type": "code",
   "execution_count": 12,
   "metadata": {
    "collapsed": false
   },
   "outputs": [],
   "source": [
    "test_DATA = Dataset(directory)"
   ]
  },
  {
   "cell_type": "code",
   "execution_count": 13,
   "metadata": {
    "collapsed": false
   },
   "outputs": [
    {
     "name": "stdout",
     "output_type": "stream",
     "text": [
      "<class 'netCDF4._netCDF4.Dataset'>\n",
      "root group (NETCDF4_CLASSIC data model, file format HDF5):\n",
      "    Conventions: CF-1.2\n",
      "    title: 4x Daily NOAA-CIRES 20th Century Reanalysis V2c\n",
      "    comments: Data is from \n",
      "NOAA-CIRES 20th Century Reanalysis version 2c\n",
      "(4x/day).  It consists of most variables interpolated to\n",
      "pressure surfaces from model (sigma) surfaces.\n",
      "    platform: Model\n",
      "    institution: NOAA ESRL Physical Sciences Division & CU/CIRES \n",
      "(325 Broadway R/PSD1, Boulder, CO 80305)\n",
      "    citation: Compo,G.P. <http://www.esrl.noaa.gov/psd/people/gilbert.p.compo>, \n",
      "J.S. Whitaker <http://www.esrl.noaa.gov/psd/people/jeffrey.s.whitaker>\n",
      "P.D. Sardeshmukh, N.Matsui, R.J. Allan, X. Yin, B.E. Gleason, R.S. Vose, \n",
      "G. Rutledge, P. Bessemoulin, S. Bronnimann, M. Brunet, R.I. Crouthamel, \n",
      "A.N. Grant, P.Y. Groisman, P.D. Jones, M. Kruk, A.C. Kruger, G.J. Marshal, \n",
      "M. Maugeri, H.Y. Mok, O. Nordli, T.F. Ross, R.M. Trio, X.L. Wang, \n",
      "S.D. Woodruff, and S.J. Worley, 2011:  The Twentieth Century Reanalysis Project\n",
      "<http://onlinelibrary.wiley.com/doi/10.1002/qj.776/abstract>.\n",
      "Quarterly J. Roy. Meteorol. Soc./, 137, 1-28. DOI: 10.1002/qj.776.\n",
      "    version: 2c\n",
      "    history: Fri Oct  7 19:20:10 2016: ncks -O -d lat,-90.000000,90.000000 -d lon,0.000000,358.000000 -d time,360,479 /Datasets/20thC_ReanV2c/monolevel/prmsl.1938.nc /Public/www/X203.97.234.149.280.19.20.9.nc\n",
      "created 2015/02 by Hoop (chunked, deflated non-packed netCDF4-Classic)\n",
      "esrl.psd.data@noaa.gov\n",
      "    contact: esrl.psd.data@noaa.gov\n",
      "    source: 20CRv2c 2014, Ensemble Kalman Filter, ocean (specified): SODAsi.2c; \n",
      "atmosphere: NCEP GFS2008ex; sea ice (specified): COBE-SST2 sea ice; \n",
      "land: Noah; version 2\n",
      "    forcing_note: Additional information on the external forcings uses in this \n",
      "reanalysis can be found at http://dx.doi.rog/10.1002/qj.776\n",
      "    name_of_model_used: ensda_v351\n",
      "    creation_date: 2014-06-13T18:30:07Z\n",
      "    product: reanalysis\n",
      "    observations: International Surface Pressure Databank version 3.2.9\n",
      "    assimilation_algorithm: Ensemble Kalman Filter\n",
      "    forcing: CO2, Sl, Vl, SST, 0z (0z is prognostic, SST is SODAsi.2c, Sl starts in 1944 \n",
      "repeating 11 year solar cycle prior, Vl is Sato et al. 1993)\n",
      "    References: http://www.esrl.noaa.gov/psd/data/gridded/data.20thC_ReanV2c.html\n",
      "    dataset_title: NOAA-CIRES 20th Century Reanalysis (V2c)\n",
      "    NCO: 4.2.6\n",
      "    dimensions(sizes): lat(91), lon(180), time(120)\n",
      "    variables(dimensions): float32 \u001b[4mlat\u001b[0m(lat), float32 \u001b[4mlon\u001b[0m(lon), float32 \u001b[4mprmsl\u001b[0m(time,lat,lon), float64 \u001b[4mtime\u001b[0m(time)\n",
      "    groups: \n",
      "\n"
     ]
    }
   ],
   "source": [
    "print(test_DATA)"
   ]
  },
  {
   "cell_type": "code",
   "execution_count": 14,
   "metadata": {
    "collapsed": false
   },
   "outputs": [
    {
     "name": "stdout",
     "output_type": "stream",
     "text": [
      "The file contains the following variables:\n",
      "odict_keys(['lat', 'lon', 'prmsl', 'time'])\n"
     ]
    }
   ],
   "source": [
    "print('The file contains the following variables:')\n",
    "print(test_DATA.variables.keys())"
   ]
  },
  {
   "cell_type": "code",
   "execution_count": 15,
   "metadata": {
    "collapsed": false
   },
   "outputs": [],
   "source": [
    "from matplotlib.pyplot import *"
   ]
  },
  {
   "cell_type": "code",
   "execution_count": 16,
   "metadata": {
    "collapsed": false
   },
   "outputs": [
    {
     "name": "stdout",
     "output_type": "stream",
     "text": [
      "These are the attributes of the time axis:\n",
      "<class 'netCDF4._netCDF4.Variable'>\n",
      "float64 time(time)\n",
      "    units: hours since 1800-1-1 00:00:0.0\n",
      "    long_name: Time\n",
      "    delta_t: 0000-00-00 06:00:00\n",
      "    standard_name: time\n",
      "    axis: T\n",
      "    coordinate_defines: point\n",
      "    actual_range: [ 1211832.  1212546.]\n",
      "unlimited dimensions: time\n",
      "current shape = (120,)\n",
      "filling on, default _FillValue of 9.969209968386869e+36 used\n",
      "\n",
      "These are some of the time values:\n",
      "[ 1211832.  1211838.  1211844.  1211850.  1211856.  1211862.  1211868.\n",
      "  1211874.  1211880.  1211886.]\n"
     ]
    }
   ],
   "source": [
    "print('These are the attributes of the time axis:')\n",
    "print(test_DATA.variables['time'])\n",
    "print('These are some of the time values:')\n",
    "print(test_DATA.variables['time'][0:10])"
   ]
  },
  {
   "cell_type": "code",
   "execution_count": 17,
   "metadata": {
    "collapsed": false
   },
   "outputs": [
    {
     "name": "stdout",
     "output_type": "stream",
     "text": [
      "[ 1211832.  1211838.  1211844.  1211850.  1211856.  1211862.  1211868.\n",
      "  1211874.  1211880.  1211886.  1211892.  1211898.  1211904.  1211910.\n",
      "  1211916.  1211922.  1211928.  1211934.  1211940.  1211946.  1211952.\n",
      "  1211958.  1211964.  1211970.  1211976.  1211982.  1211988.  1211994.\n",
      "  1212000.  1212006.  1212012.  1212018.  1212024.  1212030.  1212036.\n",
      "  1212042.  1212048.  1212054.  1212060.  1212066.  1212072.  1212078.\n",
      "  1212084.  1212090.  1212096.  1212102.  1212108.  1212114.  1212120.\n",
      "  1212126.  1212132.  1212138.  1212144.  1212150.  1212156.  1212162.\n",
      "  1212168.  1212174.  1212180.  1212186.  1212192.  1212198.  1212204.\n",
      "  1212210.  1212216.  1212222.  1212228.  1212234.  1212240.  1212246.\n",
      "  1212252.  1212258.  1212264.  1212270.  1212276.  1212282.  1212288.\n",
      "  1212294.  1212300.  1212306.  1212312.  1212318.  1212324.  1212330.\n",
      "  1212336.  1212342.  1212348.  1212354.  1212360.  1212366.  1212372.\n",
      "  1212378.  1212384.  1212390.  1212396.  1212402.  1212408.  1212414.\n",
      "  1212420.  1212426.  1212432.  1212438.  1212444.  1212450.  1212456.\n",
      "  1212462.  1212468.  1212474.  1212480.  1212486.  1212492.  1212498.\n",
      "  1212504.  1212510.  1212516.  1212522.  1212528.  1212534.  1212540.\n",
      "  1212546.]\n"
     ]
    }
   ],
   "source": [
    "print(test_DATA.variables['time'][:])"
   ]
  },
  {
   "cell_type": "code",
   "execution_count": 18,
   "metadata": {
    "collapsed": false
   },
   "outputs": [
    {
     "name": "stdout",
     "output_type": "stream",
     "text": [
      "[datetime.datetime(1938, 4, 1, 0, 0) datetime.datetime(1938, 4, 1, 6, 0)\n",
      " datetime.datetime(1938, 4, 1, 12, 0) datetime.datetime(1938, 4, 1, 18, 0)\n",
      " datetime.datetime(1938, 4, 2, 0, 0) datetime.datetime(1938, 4, 2, 6, 0)\n",
      " datetime.datetime(1938, 4, 2, 12, 0) datetime.datetime(1938, 4, 2, 18, 0)\n",
      " datetime.datetime(1938, 4, 3, 0, 0) datetime.datetime(1938, 4, 3, 6, 0)]\n"
     ]
    }
   ],
   "source": [
    "from netCDF4 import num2date\n",
    "units = test_DATA.variables['time'].units\n",
    "calendar = 'gregorian'\n",
    "\n",
    "times = num2date(test_DATA.variables['time'][:], units=units, calendar=calendar)\n",
    "print(times[0:10])"
   ]
  },
  {
   "cell_type": "code",
   "execution_count": 19,
   "metadata": {
    "collapsed": false
   },
   "outputs": [
    {
     "name": "stdout",
     "output_type": "stream",
     "text": [
      "[datetime.datetime(1938, 4, 1, 0, 0) datetime.datetime(1938, 4, 1, 6, 0)\n",
      " datetime.datetime(1938, 4, 1, 12, 0) datetime.datetime(1938, 4, 1, 18, 0)\n",
      " datetime.datetime(1938, 4, 2, 0, 0) datetime.datetime(1938, 4, 2, 6, 0)\n",
      " datetime.datetime(1938, 4, 2, 12, 0) datetime.datetime(1938, 4, 2, 18, 0)\n",
      " datetime.datetime(1938, 4, 3, 0, 0) datetime.datetime(1938, 4, 3, 6, 0)\n",
      " datetime.datetime(1938, 4, 3, 12, 0) datetime.datetime(1938, 4, 3, 18, 0)\n",
      " datetime.datetime(1938, 4, 4, 0, 0) datetime.datetime(1938, 4, 4, 6, 0)\n",
      " datetime.datetime(1938, 4, 4, 12, 0) datetime.datetime(1938, 4, 4, 18, 0)\n",
      " datetime.datetime(1938, 4, 5, 0, 0) datetime.datetime(1938, 4, 5, 6, 0)\n",
      " datetime.datetime(1938, 4, 5, 12, 0) datetime.datetime(1938, 4, 5, 18, 0)\n",
      " datetime.datetime(1938, 4, 6, 0, 0) datetime.datetime(1938, 4, 6, 6, 0)\n",
      " datetime.datetime(1938, 4, 6, 12, 0) datetime.datetime(1938, 4, 6, 18, 0)\n",
      " datetime.datetime(1938, 4, 7, 0, 0) datetime.datetime(1938, 4, 7, 6, 0)\n",
      " datetime.datetime(1938, 4, 7, 12, 0) datetime.datetime(1938, 4, 7, 18, 0)\n",
      " datetime.datetime(1938, 4, 8, 0, 0) datetime.datetime(1938, 4, 8, 6, 0)\n",
      " datetime.datetime(1938, 4, 8, 12, 0) datetime.datetime(1938, 4, 8, 18, 0)\n",
      " datetime.datetime(1938, 4, 9, 0, 0) datetime.datetime(1938, 4, 9, 6, 0)\n",
      " datetime.datetime(1938, 4, 9, 12, 0) datetime.datetime(1938, 4, 9, 18, 0)\n",
      " datetime.datetime(1938, 4, 10, 0, 0) datetime.datetime(1938, 4, 10, 6, 0)\n",
      " datetime.datetime(1938, 4, 10, 12, 0)\n",
      " datetime.datetime(1938, 4, 10, 18, 0) datetime.datetime(1938, 4, 11, 0, 0)\n",
      " datetime.datetime(1938, 4, 11, 6, 0) datetime.datetime(1938, 4, 11, 12, 0)\n",
      " datetime.datetime(1938, 4, 11, 18, 0) datetime.datetime(1938, 4, 12, 0, 0)\n",
      " datetime.datetime(1938, 4, 12, 6, 0) datetime.datetime(1938, 4, 12, 12, 0)\n",
      " datetime.datetime(1938, 4, 12, 18, 0) datetime.datetime(1938, 4, 13, 0, 0)\n",
      " datetime.datetime(1938, 4, 13, 6, 0) datetime.datetime(1938, 4, 13, 12, 0)\n",
      " datetime.datetime(1938, 4, 13, 18, 0) datetime.datetime(1938, 4, 14, 0, 0)\n",
      " datetime.datetime(1938, 4, 14, 6, 0) datetime.datetime(1938, 4, 14, 12, 0)\n",
      " datetime.datetime(1938, 4, 14, 18, 0) datetime.datetime(1938, 4, 15, 0, 0)\n",
      " datetime.datetime(1938, 4, 15, 6, 0) datetime.datetime(1938, 4, 15, 12, 0)\n",
      " datetime.datetime(1938, 4, 15, 18, 0) datetime.datetime(1938, 4, 16, 0, 0)\n",
      " datetime.datetime(1938, 4, 16, 6, 0) datetime.datetime(1938, 4, 16, 12, 0)\n",
      " datetime.datetime(1938, 4, 16, 18, 0) datetime.datetime(1938, 4, 17, 0, 0)\n",
      " datetime.datetime(1938, 4, 17, 6, 0) datetime.datetime(1938, 4, 17, 12, 0)\n",
      " datetime.datetime(1938, 4, 17, 18, 0) datetime.datetime(1938, 4, 18, 0, 0)\n",
      " datetime.datetime(1938, 4, 18, 6, 0) datetime.datetime(1938, 4, 18, 12, 0)\n",
      " datetime.datetime(1938, 4, 18, 18, 0) datetime.datetime(1938, 4, 19, 0, 0)\n",
      " datetime.datetime(1938, 4, 19, 6, 0) datetime.datetime(1938, 4, 19, 12, 0)\n",
      " datetime.datetime(1938, 4, 19, 18, 0) datetime.datetime(1938, 4, 20, 0, 0)\n",
      " datetime.datetime(1938, 4, 20, 6, 0) datetime.datetime(1938, 4, 20, 12, 0)\n",
      " datetime.datetime(1938, 4, 20, 18, 0) datetime.datetime(1938, 4, 21, 0, 0)\n",
      " datetime.datetime(1938, 4, 21, 6, 0) datetime.datetime(1938, 4, 21, 12, 0)\n",
      " datetime.datetime(1938, 4, 21, 18, 0) datetime.datetime(1938, 4, 22, 0, 0)\n",
      " datetime.datetime(1938, 4, 22, 6, 0) datetime.datetime(1938, 4, 22, 12, 0)\n",
      " datetime.datetime(1938, 4, 22, 18, 0) datetime.datetime(1938, 4, 23, 0, 0)\n",
      " datetime.datetime(1938, 4, 23, 6, 0) datetime.datetime(1938, 4, 23, 12, 0)\n",
      " datetime.datetime(1938, 4, 23, 18, 0) datetime.datetime(1938, 4, 24, 0, 0)\n",
      " datetime.datetime(1938, 4, 24, 6, 0) datetime.datetime(1938, 4, 24, 12, 0)\n",
      " datetime.datetime(1938, 4, 24, 18, 0) datetime.datetime(1938, 4, 25, 0, 0)\n",
      " datetime.datetime(1938, 4, 25, 6, 0) datetime.datetime(1938, 4, 25, 12, 0)\n",
      " datetime.datetime(1938, 4, 25, 18, 0) datetime.datetime(1938, 4, 26, 0, 0)\n",
      " datetime.datetime(1938, 4, 26, 6, 0) datetime.datetime(1938, 4, 26, 12, 0)\n",
      " datetime.datetime(1938, 4, 26, 18, 0) datetime.datetime(1938, 4, 27, 0, 0)\n",
      " datetime.datetime(1938, 4, 27, 6, 0) datetime.datetime(1938, 4, 27, 12, 0)\n",
      " datetime.datetime(1938, 4, 27, 18, 0) datetime.datetime(1938, 4, 28, 0, 0)\n",
      " datetime.datetime(1938, 4, 28, 6, 0) datetime.datetime(1938, 4, 28, 12, 0)\n",
      " datetime.datetime(1938, 4, 28, 18, 0) datetime.datetime(1938, 4, 29, 0, 0)\n",
      " datetime.datetime(1938, 4, 29, 6, 0) datetime.datetime(1938, 4, 29, 12, 0)\n",
      " datetime.datetime(1938, 4, 29, 18, 0) datetime.datetime(1938, 4, 30, 0, 0)\n",
      " datetime.datetime(1938, 4, 30, 6, 0) datetime.datetime(1938, 4, 30, 12, 0)\n",
      " datetime.datetime(1938, 4, 30, 18, 0)]\n"
     ]
    }
   ],
   "source": [
    "print(times[:])"
   ]
  },
  {
   "cell_type": "code",
   "execution_count": 20,
   "metadata": {
    "collapsed": true
   },
   "outputs": [],
   "source": [
    "from matplotlib.pyplot import *"
   ]
  },
  {
   "cell_type": "code",
   "execution_count": 56,
   "metadata": {
    "collapsed": false
   },
   "outputs": [
    {
     "data": {
      "image/png": "iVBORw0KGgoAAAANSUhEUgAAA0sAAAKsCAYAAAA9cib4AAAABHNCSVQICAgIfAhkiAAAAAlwSFlz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\nEhERERERkY//D4m7t3aVSQDgAAAAAElFTkSuQmCC\n",
      "text/plain": [
       "<matplotlib.figure.Figure at 0x20725e309e8>"
      ]
     },
     "metadata": {},
     "output_type": "display_data"
    }
   ],
   "source": [
    "LAT = test_DATA.variables['lat']\n",
    "LON = test_DATA.variables['lon']\n",
    "TIME = test_DATA.variables['time']\n",
    "\n",
    "# Only one time value is being plotted. modify timeIndex if desired (value between 0 and length(timeData)-1 )\n",
    "timeIndex = 4\n",
    "latData = LAT[:]\n",
    "lonData = LON[:]\n",
    "\n",
    "# Data components\n",
    "mslpData = test_DATA.variables['prmsl'][timeIndex,:,:]\n",
    "units = test_DATA.variables['prmsl'].units\n",
    "\n",
    "figure1 = figure(figsize=(13, 10), dpi=80, facecolor='w', edgecolor='k')\n",
    "pcolor(lonData , latData, mslpData, cmap='jet')\n",
    "cbar = colorbar()\n",
    "cbar.ax.set_ylabel('Mean Sea Level Pressure in ' + units)\n",
    "\n",
    "title(test_DATA.title + '\\n' + num2date(TIME[timeIndex], TIME.units, 'gregorian').strftime('%d/%m/%Y'))\n",
    "xlabel(LON.long_name + ' in ' + LON.units)\n",
    "ylabel(LAT.long_name + ' in ' + LAT.units)\n",
    "\n",
    "\n",
    "\n",
    "# save & plot MSLP field\n",
    "#savefig('MSLP_19380402.png')\n",
    "show()"
   ]
  },
  {
   "cell_type": "code",
   "execution_count": 4,
   "metadata": {
    "collapsed": false
   },
   "outputs": [
    {
     "data": {
      "text/plain": [
       "['',\n",
       " 'C:\\\\Users\\\\denzi\\\\Anaconda3\\\\python35.zip',\n",
       " 'C:\\\\Users\\\\denzi\\\\Anaconda3\\\\DLLs',\n",
       " 'C:\\\\Users\\\\denzi\\\\Anaconda3\\\\lib',\n",
       " 'C:\\\\Users\\\\denzi\\\\Anaconda3',\n",
       " 'C:\\\\Users\\\\denzi\\\\Anaconda3\\\\lib\\\\site-packages',\n",
       " 'C:\\\\Users\\\\denzi\\\\Anaconda3\\\\lib\\\\site-packages\\\\Sphinx-1.4.6-py3.5.egg',\n",
       " 'C:\\\\Users\\\\denzi\\\\Anaconda3\\\\lib\\\\site-packages\\\\win32',\n",
       " 'C:\\\\Users\\\\denzi\\\\Anaconda3\\\\lib\\\\site-packages\\\\win32\\\\lib',\n",
       " 'C:\\\\Users\\\\denzi\\\\Anaconda3\\\\lib\\\\site-packages\\\\Pythonwin',\n",
       " 'C:\\\\Users\\\\denzi\\\\Anaconda3\\\\lib\\\\site-packages\\\\setuptools-27.2.0-py3.5.egg',\n",
       " 'C:\\\\Users\\\\denzi\\\\Anaconda3\\\\lib\\\\site-packages\\\\IPython\\\\extensions',\n",
       " 'C:\\\\Users\\\\denzi\\\\.ipython']"
      ]
     },
     "execution_count": 4,
     "metadata": {},
     "output_type": "execute_result"
    }
   ],
   "source": [
    "import sys\n",
    "sys.path"
   ]
  },
  {
   "cell_type": "code",
   "execution_count": 38,
   "metadata": {
    "collapsed": false
   },
   "outputs": [
    {
     "ename": "RuntimeError",
     "evalue": "No mappable was found to use for colorbar creation. First define a mappable such as an image (with imshow) or a contour set (with contourf).",
     "output_type": "error",
     "traceback": [
      "\u001b[0;31m---------------------------------------------------------------------------\u001b[0m",
      "\u001b[0;31mRuntimeError\u001b[0m                              Traceback (most recent call last)",
      "\u001b[0;32m<ipython-input-38-ea61f2b7171d>\u001b[0m in \u001b[0;36m<module>\u001b[0;34m()\u001b[0m\n\u001b[0;32m----> 1\u001b[0;31m \u001b[0mhelp\u001b[0m\u001b[1;33m(\u001b[0m\u001b[0mcolorbar\u001b[0m\u001b[1;33m(\u001b[0m\u001b[1;33m)\u001b[0m\u001b[1;33m)\u001b[0m\u001b[1;33m\u001b[0m\u001b[0m\n\u001b[0m",
      "\u001b[0;32mC:\\Users\\denzi\\Anaconda3\\lib\\site-packages\\matplotlib\\pyplot.py\u001b[0m in \u001b[0;36mcolorbar\u001b[0;34m(mappable, cax, ax, **kw)\u001b[0m\n\u001b[1;32m   2253\u001b[0m         \u001b[0mmappable\u001b[0m \u001b[1;33m=\u001b[0m \u001b[0mgci\u001b[0m\u001b[1;33m(\u001b[0m\u001b[1;33m)\u001b[0m\u001b[1;33m\u001b[0m\u001b[0m\n\u001b[1;32m   2254\u001b[0m         \u001b[1;32mif\u001b[0m \u001b[0mmappable\u001b[0m \u001b[1;32mis\u001b[0m \u001b[1;32mNone\u001b[0m\u001b[1;33m:\u001b[0m\u001b[1;33m\u001b[0m\u001b[0m\n\u001b[0;32m-> 2255\u001b[0;31m             raise RuntimeError('No mappable was found to use for colorbar '\n\u001b[0m\u001b[1;32m   2256\u001b[0m                                \u001b[1;34m'creation. First define a mappable such as '\u001b[0m\u001b[1;33m\u001b[0m\u001b[0m\n\u001b[1;32m   2257\u001b[0m                                \u001b[1;34m'an image (with imshow) or a contour set ('\u001b[0m\u001b[1;33m\u001b[0m\u001b[0m\n",
      "\u001b[0;31mRuntimeError\u001b[0m: No mappable was found to use for colorbar creation. First define a mappable such as an image (with imshow) or a contour set (with contourf)."
     ]
    }
   ],
   "source": [
    "help(colorbar())"
   ]
  },
  {
   "cell_type": "code",
   "execution_count": 40,
   "metadata": {
    "collapsed": false
   },
   "outputs": [
    {
     "name": "stdout",
     "output_type": "stream",
     "text": [
      "Help on function pcolor in module matplotlib.pyplot:\n",
      "\n",
      "pcolor(*args, **kwargs)\n",
      "    Create a pseudocolor plot of a 2-D array.\n",
      "    \n",
      "    .. note::\n",
      "    \n",
      "        pcolor can be very slow for large arrays; consider\n",
      "        using the similar but much faster\n",
      "        :func:`~matplotlib.pyplot.pcolormesh` instead.\n",
      "    \n",
      "    Call signatures::\n",
      "    \n",
      "      pcolor(C, **kwargs)\n",
      "      pcolor(X, Y, C, **kwargs)\n",
      "    \n",
      "    *C* is the array of color values.\n",
      "    \n",
      "    *X* and *Y*, if given, specify the (*x*, *y*) coordinates of\n",
      "    the colored quadrilaterals; the quadrilateral for C[i,j] has\n",
      "    corners at::\n",
      "    \n",
      "      (X[i,   j],   Y[i,   j]),\n",
      "      (X[i,   j+1], Y[i,   j+1]),\n",
      "      (X[i+1, j],   Y[i+1, j]),\n",
      "      (X[i+1, j+1], Y[i+1, j+1]).\n",
      "    \n",
      "    Ideally the dimensions of *X* and *Y* should be one greater\n",
      "    than those of *C*; if the dimensions are the same, then the\n",
      "    last row and column of *C* will be ignored.\n",
      "    \n",
      "    Note that the column index corresponds to the\n",
      "    *x*-coordinate, and the row index corresponds to *y*; for\n",
      "    details, see the :ref:`Grid Orientation\n",
      "    <axes-pcolor-grid-orientation>` section below.\n",
      "    \n",
      "    If either or both of *X* and *Y* are 1-D arrays or column vectors,\n",
      "    they will be expanded as needed into the appropriate 2-D arrays,\n",
      "    making a rectangular grid.\n",
      "    \n",
      "    *X*, *Y* and *C* may be masked arrays.  If either C[i, j], or one\n",
      "    of the vertices surrounding C[i,j] (*X* or *Y* at [i, j], [i+1, j],\n",
      "    [i, j+1],[i+1, j+1]) is masked, nothing is plotted.\n",
      "    \n",
      "    Keyword arguments:\n",
      "    \n",
      "      *cmap*: [ *None* | Colormap ]\n",
      "        A :class:`matplotlib.colors.Colormap` instance. If *None*, use\n",
      "        rc settings.\n",
      "    \n",
      "      *norm*: [ *None* | Normalize ]\n",
      "        An :class:`matplotlib.colors.Normalize` instance is used\n",
      "        to scale luminance data to 0,1. If *None*, defaults to\n",
      "        :func:`normalize`.\n",
      "    \n",
      "      *vmin*/*vmax*: [ *None* | scalar ]\n",
      "        *vmin* and *vmax* are used in conjunction with *norm* to\n",
      "        normalize luminance data.  If either is *None*, it\n",
      "        is autoscaled to the respective min or max\n",
      "        of the color array *C*.  If not *None*, *vmin* or\n",
      "        *vmax* passed in here override any pre-existing values\n",
      "        supplied in the *norm* instance.\n",
      "    \n",
      "      *shading*: [ 'flat' | 'faceted' ]\n",
      "        If 'faceted', a black grid is drawn around each rectangle; if\n",
      "        'flat', edges are not drawn. Default is 'flat', contrary to\n",
      "        MATLAB.\n",
      "    \n",
      "        This kwarg is deprecated; please use 'edgecolors' instead:\n",
      "          * shading='flat' -- edgecolors='none'\n",
      "          * shading='faceted  -- edgecolors='k'\n",
      "    \n",
      "      *edgecolors*: [ *None* | ``'none'`` | color | color sequence]\n",
      "        If *None*, the rc setting is used by default.\n",
      "    \n",
      "        If ``'none'``, edges will not be visible.\n",
      "    \n",
      "        An mpl color or sequence of colors will set the edge color\n",
      "    \n",
      "      *alpha*: ``0 <= scalar <= 1``   or *None*\n",
      "        the alpha blending value\n",
      "    \n",
      "      *snap*: bool\n",
      "        Whether to snap the mesh to pixel boundaries.\n",
      "    \n",
      "    Return value is a :class:`matplotlib.collections.Collection`\n",
      "    instance.\n",
      "    \n",
      "    .. _axes-pcolor-grid-orientation:\n",
      "    \n",
      "    The grid orientation follows the MATLAB convention: an\n",
      "    array *C* with shape (*nrows*, *ncolumns*) is plotted with\n",
      "    the column number as *X* and the row number as *Y*, increasing\n",
      "    up; hence it is plotted the way the array would be printed,\n",
      "    except that the *Y* axis is reversed.  That is, *C* is taken\n",
      "    as *C*(*y*, *x*).\n",
      "    \n",
      "    Similarly for :func:`meshgrid`::\n",
      "    \n",
      "      x = np.arange(5)\n",
      "      y = np.arange(3)\n",
      "      X, Y = np.meshgrid(x, y)\n",
      "    \n",
      "    is equivalent to::\n",
      "    \n",
      "      X = array([[0, 1, 2, 3, 4],\n",
      "                 [0, 1, 2, 3, 4],\n",
      "                 [0, 1, 2, 3, 4]])\n",
      "    \n",
      "      Y = array([[0, 0, 0, 0, 0],\n",
      "                 [1, 1, 1, 1, 1],\n",
      "                 [2, 2, 2, 2, 2]])\n",
      "    \n",
      "    so if you have::\n",
      "    \n",
      "      C = rand(len(x), len(y))\n",
      "    \n",
      "    then you need to transpose C::\n",
      "    \n",
      "      pcolor(X, Y, C.T)\n",
      "    \n",
      "    or::\n",
      "    \n",
      "      pcolor(C.T)\n",
      "    \n",
      "    MATLAB :func:`pcolor` always discards the last row and column\n",
      "    of *C*, but matplotlib displays the last row and column if *X* and\n",
      "    *Y* are not specified, or if *X* and *Y* have one more row and\n",
      "    column than *C*.\n",
      "    \n",
      "    kwargs can be used to control the\n",
      "    :class:`~matplotlib.collections.PolyCollection` properties:\n",
      "    \n",
      "      agg_filter: unknown\n",
      "      alpha: float or None \n",
      "      animated: [True | False] \n",
      "      antialiased or antialiaseds: Boolean or sequence of booleans \n",
      "      array: unknown\n",
      "      axes: an :class:`~matplotlib.axes.Axes` instance \n",
      "      clim: a length 2 sequence of floats \n",
      "      clip_box: a :class:`matplotlib.transforms.Bbox` instance \n",
      "      clip_on: [True | False] \n",
      "      clip_path: [ (:class:`~matplotlib.path.Path`, :class:`~matplotlib.transforms.Transform`) | :class:`~matplotlib.patches.Patch` | None ] \n",
      "      cmap: a colormap or registered colormap name \n",
      "      color: matplotlib color arg or sequence of rgba tuples\n",
      "      contains: a callable function \n",
      "      edgecolor or edgecolors: matplotlib color spec or sequence of specs \n",
      "      facecolor or facecolors: matplotlib color spec or sequence of specs \n",
      "      figure: a :class:`matplotlib.figure.Figure` instance \n",
      "      gid: an id string \n",
      "      hatch: [ '/' | '\\\\' | '|' | '-' | '+' | 'x' | 'o' | 'O' | '.' | '*' ] \n",
      "      label: string or anything printable with '%s' conversion. \n",
      "      linestyle or dashes or linestyles: ['solid' | 'dashed', 'dashdot', 'dotted' | (offset, on-off-dash-seq) | ``'-'`` | ``'--'`` | ``'-.'`` | ``':'`` | ``'None'`` | ``' '`` | ``''``]\n",
      "      linewidth or linewidths or lw: float or sequence of floats \n",
      "      norm: unknown\n",
      "      offset_position: unknown\n",
      "      offsets: float or sequence of floats \n",
      "      path_effects: unknown\n",
      "      picker: [None|float|boolean|callable] \n",
      "      pickradius: unknown\n",
      "      rasterized: [True | False | None] \n",
      "      sketch_params: unknown\n",
      "      snap: unknown\n",
      "      transform: :class:`~matplotlib.transforms.Transform` instance \n",
      "      url: a url string \n",
      "      urls: unknown\n",
      "      visible: [True | False] \n",
      "      zorder: any number \n",
      "    \n",
      "    .. note::\n",
      "    \n",
      "        The default *antialiaseds* is False if the default\n",
      "        *edgecolors*=\"none\" is used.  This eliminates artificial lines\n",
      "        at patch boundaries, and works regardless of the value of\n",
      "        alpha.  If *edgecolors* is not \"none\", then the default\n",
      "        *antialiaseds* is taken from\n",
      "        rcParams['patch.antialiased'], which defaults to *True*.\n",
      "        Stroking the edges may be preferred if *alpha* is 1, but\n",
      "        will cause artifacts otherwise.\n",
      "    \n",
      "    .. seealso::\n",
      "    \n",
      "        :func:`~matplotlib.pyplot.pcolormesh`\n",
      "            For an explanation of the differences between\n",
      "            pcolor and pcolormesh.\n",
      "    \n",
      "    .. note::\n",
      "        In addition to the above described arguments, this function can take a\n",
      "        **data** keyword argument. If such a **data** argument is given, the\n",
      "        following arguments are replaced by **data[<arg>]**:\n",
      "    \n",
      "        * All positional and all keyword arguments.\n",
      "\n"
     ]
    }
   ],
   "source": [
    "help(pcolor)"
   ]
  },
  {
   "cell_type": "code",
   "execution_count": null,
   "metadata": {
    "collapsed": true
   },
   "outputs": [],
   "source": []
  }
 ],
 "metadata": {
  "anaconda-cloud": {},
  "kernelspec": {
   "display_name": "Python [default]",
   "language": "python",
   "name": "python3"
  },
  "language_info": {
   "codemirror_mode": {
    "name": "ipython",
    "version": 3
   },
   "file_extension": ".py",
   "mimetype": "text/x-python",
   "name": "python",
   "nbconvert_exporter": "python",
   "pygments_lexer": "ipython3",
   "version": "3.5.2"
  }
 },
 "nbformat": 4,
 "nbformat_minor": 1
}

make some small changes to the bottom here
